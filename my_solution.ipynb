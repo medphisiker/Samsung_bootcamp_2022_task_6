{
 "cells": [
  {
   "cell_type": "markdown",
   "metadata": {},
   "source": [
    "Я решаю данную задачу используя библиотеку LightAutoML [ссылка](https://github.com/sb-ai-lab/LightAutoML). "
   ]
  },
  {
   "cell_type": "markdown",
   "metadata": {},
   "source": [
    "## 0. Предварительная подготовка"
   ]
  },
  {
   "cell_type": "markdown",
   "metadata": {},
   "source": [
    "### 0.0. Установим LightAutoML"
   ]
  },
  {
   "cell_type": "code",
   "execution_count": 1,
   "metadata": {},
   "outputs": [],
   "source": [
    "# установим библиотеку LightAutoML с поддержкой энкодеров\n",
    "# для текста и изображений на основе нейросетей\n",
    "# !pip install -U lightautoml[all]"
   ]
  },
  {
   "cell_type": "code",
   "execution_count": 2,
   "metadata": {},
   "outputs": [],
   "source": [
    "# чтобы работали нейросети и шаблон решения задач\n",
    "# с картинками нужно поставить на библиотеку дополнительный фикс!\n",
    "# !pip install LightAutoML-0.3.7-py3-none-any.whl[all]"
   ]
  },
  {
   "cell_type": "code",
   "execution_count": 3,
   "metadata": {
    "_kg_hide-output": true,
    "execution": {
     "iopub.execute_input": "2022-07-05T14:48:27.156990Z",
     "iopub.status.busy": "2022-07-05T14:48:27.156347Z",
     "iopub.status.idle": "2022-07-05T14:50:52.471659Z",
     "shell.execute_reply": "2022-07-05T14:50:52.470198Z",
     "shell.execute_reply.started": "2022-07-05T14:48:27.156944Z"
    },
    "papermill": {
     "duration": 23.023261,
     "end_time": "2021-06-22T20:10:52.955691",
     "exception": false,
     "start_time": "2021-06-22T20:10:29.93243",
     "status": "completed"
    },
    "scrolled": true,
    "tags": []
   },
   "outputs": [],
   "source": [
    "# в качестве модели извлекающей признаки из картинок будет\n",
    "# использоваться нейросеть EfficientNet\n",
    "# установим эту зависимость.\n",
    "\n",
    "# !pip install efficientnet-pytorch==0.7.0\n",
    "\n",
    "# QUICK WORKAROUND FOR PROBLEM WITH PANDAS\n",
    "# !pip install -U pandas"
   ]
  },
  {
   "cell_type": "code",
   "execution_count": 4,
   "metadata": {
    "execution": {
     "iopub.execute_input": "2022-07-05T14:51:46.798354Z",
     "iopub.status.busy": "2022-07-05T14:51:46.797984Z",
     "iopub.status.idle": "2022-07-05T14:51:49.606148Z",
     "shell.execute_reply": "2022-07-05T14:51:49.605139Z",
     "shell.execute_reply.started": "2022-07-05T14:51:46.798321Z"
    },
    "papermill": {
     "duration": 8.32949,
     "end_time": "2021-06-22T20:11:01.487788",
     "exception": false,
     "start_time": "2021-06-22T20:10:53.158298",
     "status": "completed"
    },
    "tags": []
   },
   "outputs": [
    {
     "name": "stderr",
     "output_type": "stream",
     "text": [
      "/home/admin-gpu/anaconda3/envs/sber_lama/lib/python3.9/site-packages/tqdm/auto.py:22: TqdmWarning: IProgress not found. Please update jupyter and ipywidgets. See https://ipywidgets.readthedocs.io/en/stable/user_install.html\n",
      "  from .autonotebook import tqdm as notebook_tqdm\n"
     ]
    }
   ],
   "source": [
    "import os\n",
    "import time\n",
    "\n",
    "import numpy as np\n",
    "import pandas as pd\n",
    "from sklearn.metrics import f1_score, accuracy_score, confusion_matrix\n",
    "from sklearn.model_selection import train_test_split\n",
    "import torch\n",
    "import seaborn as sns\n",
    "import matplotlib.pyplot as plt\n",
    "\n",
    "# LightAutoML шаблоны пресетов для задач комп зрения\n",
    "from lightautoml.automl.presets.image_presets import TabularCVAutoML\n",
    "from lightautoml.tasks import Task"
   ]
  },
  {
   "cell_type": "code",
   "execution_count": 5,
   "metadata": {
    "execution": {
     "iopub.execute_input": "2022-07-05T14:51:52.670042Z",
     "iopub.status.busy": "2022-07-05T14:51:52.669639Z",
     "iopub.status.idle": "2022-07-05T14:51:52.694336Z",
     "shell.execute_reply": "2022-07-05T14:51:52.693519Z",
     "shell.execute_reply.started": "2022-07-05T14:51:52.670013Z"
    },
    "papermill": {
     "duration": 0.087268,
     "end_time": "2021-06-22T20:11:02.092497",
     "exception": false,
     "start_time": "2021-06-22T20:11:02.005229",
     "status": "completed"
    },
    "tags": []
   },
   "outputs": [],
   "source": [
    "np.random.seed(42)\n",
    "torch.set_num_threads(2)"
   ]
  },
  {
   "cell_type": "markdown",
   "metadata": {
    "papermill": {
     "duration": 0.072033,
     "end_time": "2021-06-22T20:11:02.238196",
     "exception": false,
     "start_time": "2021-06-22T20:11:02.166163",
     "status": "completed"
    },
    "tags": []
   },
   "source": [
    "### Загрузка данных"
   ]
  },
  {
   "cell_type": "code",
   "execution_count": 6,
   "metadata": {},
   "outputs": [],
   "source": [
    "train = pd.read_csv('data/train.csv')"
   ]
  },
  {
   "cell_type": "code",
   "execution_count": 7,
   "metadata": {},
   "outputs": [
    {
     "data": {
      "text/html": [
       "<div>\n",
       "<style scoped>\n",
       "    .dataframe tbody tr th:only-of-type {\n",
       "        vertical-align: middle;\n",
       "    }\n",
       "\n",
       "    .dataframe tbody tr th {\n",
       "        vertical-align: top;\n",
       "    }\n",
       "\n",
       "    .dataframe thead th {\n",
       "        text-align: right;\n",
       "    }\n",
       "</style>\n",
       "<table border=\"1\" class=\"dataframe\">\n",
       "  <thead>\n",
       "    <tr style=\"text-align: right;\">\n",
       "      <th></th>\n",
       "      <th>img_name</th>\n",
       "      <th>PSNR</th>\n",
       "    </tr>\n",
       "  </thead>\n",
       "  <tbody>\n",
       "    <tr>\n",
       "      <th>0</th>\n",
       "      <td>100083_1.png</td>\n",
       "      <td>29.543164</td>\n",
       "    </tr>\n",
       "    <tr>\n",
       "      <th>1</th>\n",
       "      <td>100083_2.png</td>\n",
       "      <td>27.894582</td>\n",
       "    </tr>\n",
       "    <tr>\n",
       "      <th>2</th>\n",
       "      <td>100083_3.png</td>\n",
       "      <td>29.350353</td>\n",
       "    </tr>\n",
       "    <tr>\n",
       "      <th>3</th>\n",
       "      <td>100083_4.png</td>\n",
       "      <td>27.775248</td>\n",
       "    </tr>\n",
       "    <tr>\n",
       "      <th>4</th>\n",
       "      <td>100083_5.png</td>\n",
       "      <td>34.358442</td>\n",
       "    </tr>\n",
       "  </tbody>\n",
       "</table>\n",
       "</div>"
      ],
      "text/plain": [
       "       img_name       PSNR\n",
       "0  100083_1.png  29.543164\n",
       "1  100083_2.png  27.894582\n",
       "2  100083_3.png  29.350353\n",
       "3  100083_4.png  27.775248\n",
       "4  100083_5.png  34.358442"
      ]
     },
     "execution_count": 7,
     "metadata": {},
     "output_type": "execute_result"
    }
   ],
   "source": [
    "train.head()"
   ]
  },
  {
   "cell_type": "code",
   "execution_count": 10,
   "metadata": {},
   "outputs": [],
   "source": [
    "# добавим полный относительный путь до картинок из train\n",
    "# в качестве новой колонки\n",
    "path_to_dataset_train = 'data/SBC22_IQA_dataset/train'\n",
    "train['path'] =  path_to_dataset_train + '/' + train['img_name']"
   ]
  },
  {
   "cell_type": "code",
   "execution_count": 11,
   "metadata": {},
   "outputs": [],
   "source": [
    "# колонка с имена картинок больше не нужна\n",
    "train.drop(columns=['img_name'], inplace=True)"
   ]
  },
  {
   "cell_type": "code",
   "execution_count": 12,
   "metadata": {},
   "outputs": [
    {
     "data": {
      "text/html": [
       "<div>\n",
       "<style scoped>\n",
       "    .dataframe tbody tr th:only-of-type {\n",
       "        vertical-align: middle;\n",
       "    }\n",
       "\n",
       "    .dataframe tbody tr th {\n",
       "        vertical-align: top;\n",
       "    }\n",
       "\n",
       "    .dataframe thead th {\n",
       "        text-align: right;\n",
       "    }\n",
       "</style>\n",
       "<table border=\"1\" class=\"dataframe\">\n",
       "  <thead>\n",
       "    <tr style=\"text-align: right;\">\n",
       "      <th></th>\n",
       "      <th>PSNR</th>\n",
       "      <th>path</th>\n",
       "    </tr>\n",
       "  </thead>\n",
       "  <tbody>\n",
       "    <tr>\n",
       "      <th>0</th>\n",
       "      <td>29.543164</td>\n",
       "      <td>data/SBC22_IQA_dataset/train/100083_1.png</td>\n",
       "    </tr>\n",
       "    <tr>\n",
       "      <th>1</th>\n",
       "      <td>27.894582</td>\n",
       "      <td>data/SBC22_IQA_dataset/train/100083_2.png</td>\n",
       "    </tr>\n",
       "    <tr>\n",
       "      <th>2</th>\n",
       "      <td>29.350353</td>\n",
       "      <td>data/SBC22_IQA_dataset/train/100083_3.png</td>\n",
       "    </tr>\n",
       "    <tr>\n",
       "      <th>3</th>\n",
       "      <td>27.775248</td>\n",
       "      <td>data/SBC22_IQA_dataset/train/100083_4.png</td>\n",
       "    </tr>\n",
       "    <tr>\n",
       "      <th>4</th>\n",
       "      <td>34.358442</td>\n",
       "      <td>data/SBC22_IQA_dataset/train/100083_5.png</td>\n",
       "    </tr>\n",
       "  </tbody>\n",
       "</table>\n",
       "</div>"
      ],
      "text/plain": [
       "        PSNR                                       path\n",
       "0  29.543164  data/SBC22_IQA_dataset/train/100083_1.png\n",
       "1  27.894582  data/SBC22_IQA_dataset/train/100083_2.png\n",
       "2  29.350353  data/SBC22_IQA_dataset/train/100083_3.png\n",
       "3  27.775248  data/SBC22_IQA_dataset/train/100083_4.png\n",
       "4  34.358442  data/SBC22_IQA_dataset/train/100083_5.png"
      ]
     },
     "execution_count": 12,
     "metadata": {},
     "output_type": "execute_result"
    }
   ],
   "source": [
    "train.head()"
   ]
  },
  {
   "cell_type": "markdown",
   "metadata": {
    "papermill": {
     "duration": 0.071526,
     "end_time": "2021-06-22T20:11:22.853156",
     "exception": false,
     "start_time": "2021-06-22T20:11:22.78163",
     "status": "completed"
    },
    "tags": []
   },
   "source": [
    "# Ставим задачу"
   ]
  },
  {
   "cell_type": "code",
   "execution_count": 13,
   "metadata": {
    "execution": {
     "iopub.execute_input": "2022-07-05T15:03:11.435456Z",
     "iopub.status.busy": "2022-07-05T15:03:11.435099Z",
     "iopub.status.idle": "2022-07-05T15:03:11.443489Z",
     "shell.execute_reply": "2022-07-05T15:03:11.442495Z",
     "shell.execute_reply.started": "2022-07-05T15:03:11.435426Z"
    },
    "papermill": {
     "duration": 0.086442,
     "end_time": "2021-06-22T20:11:23.010643",
     "exception": false,
     "start_time": "2021-06-22T20:11:22.924201",
     "status": "completed"
    },
    "tags": []
   },
   "outputs": [],
   "source": [
    "# у нас задача регрессии, ставим метрику и лосс согласно условиям\n",
    "# соревнования\n",
    "task = Task('reg', loss='mae', metric='mae')"
   ]
  },
  {
   "cell_type": "code",
   "execution_count": 14,
   "metadata": {
    "execution": {
     "iopub.execute_input": "2022-07-05T15:04:51.585907Z",
     "iopub.status.busy": "2022-07-05T15:04:51.585493Z",
     "iopub.status.idle": "2022-07-05T15:04:51.590716Z",
     "shell.execute_reply": "2022-07-05T15:04:51.589789Z",
     "shell.execute_reply.started": "2022-07-05T15:04:51.585872Z"
    },
    "papermill": {
     "duration": 0.07715,
     "end_time": "2021-06-22T20:11:23.43883",
     "exception": false,
     "start_time": "2021-06-22T20:11:23.36168",
     "status": "completed"
    },
    "tags": []
   },
   "outputs": [],
   "source": [
    "# целевая переменная для регресии это PSNR\n",
    "# переменная пути для картинок в столбце path\n",
    "roles = {'target': 'PSNR',\n",
    "         'path' : ['path'],\n",
    "         }"
   ]
  },
  {
   "cell_type": "code",
   "execution_count": 15,
   "metadata": {},
   "outputs": [],
   "source": [
    "automl = TabularCVAutoML(task=task,\n",
    "                         timeout=5 * 3600,\n",
    "                         cpu_limit=2,\n",
    "                         reader_params={'cv': 5, 'random_state': 42})\n"
   ]
  },
  {
   "cell_type": "markdown",
   "metadata": {},
   "source": [
    "# Обучение модели по кросс валидации по всей выборке"
   ]
  },
  {
   "cell_type": "code",
   "execution_count": 16,
   "metadata": {
    "execution": {
     "iopub.execute_input": "2022-07-05T15:26:18.568874Z",
     "iopub.status.busy": "2022-07-05T15:26:18.568501Z",
     "iopub.status.idle": "2022-07-05T15:26:18.608695Z",
     "shell.execute_reply": "2022-07-05T15:26:18.607791Z",
     "shell.execute_reply.started": "2022-07-05T15:26:18.568842Z"
    },
    "scrolled": false
   },
   "outputs": [
    {
     "name": "stdout",
     "output_type": "stream",
     "text": [
      "[18:13:15] Stdout logging level is DEBUG.\n",
      "[18:13:15] Task: reg\n",
      "\n",
      "[18:13:15] Start automl preset with listed constraints:\n",
      "[18:13:15] - time: 18000.00 seconds\n",
      "[18:13:15] - CPU: 2 cores\n",
      "[18:13:15] - memory: 16 GB\n",
      "\n",
      "[18:13:15] \u001b[1mTrain data shape: (13210, 2)\u001b[0m\n",
      "\n",
      "[18:13:15] Layer \u001b[1m1\u001b[0m train process start. Time left 18000.00 secs\n",
      "Loaded pretrained weights for efficientnet-b0\n"
     ]
    },
    {
     "name": "stderr",
     "output_type": "stream",
     "text": [
      "100%|██████████| 104/104 [00:35<00:00,  2.89it/s]"
     ]
    },
    {
     "name": "stdout",
     "output_type": "stream",
     "text": [
      "[18:13:53] Feature path transformed\n"
     ]
    },
    {
     "name": "stderr",
     "output_type": "stream",
     "text": [
      "\n"
     ]
    },
    {
     "name": "stdout",
     "output_type": "stream",
     "text": [
      "[18:13:54] Start fitting \u001b[1mLvl_0_Pipe_0_Mod_0_LinearL2\u001b[0m ...\n",
      "[18:13:54] Training params: {'tol': 1e-06, 'max_iter': 100, 'cs': [1e-05, 5e-05, 0.0001, 0.0005, 0.001, 0.005, 0.01, 0.05, 0.1, 0.5, 1, 5, 10, 50, 100, 500, 1000, 5000, 10000, 50000, 100000], 'early_stopping': 2, 'categorical_idx': [], 'embed_sizes': (), 'data_size': 1280}\n",
      "[18:13:54] ===== Start working with \u001b[1mfold 0\u001b[0m for \u001b[1mLvl_0_Pipe_0_Mod_0_LinearL2\u001b[0m =====\n",
      "[18:13:54] Linear model: C = 1e-05 score = -0.8361170218629669\n",
      "[18:13:54] Linear model: C = 5e-05 score = -0.7955806235930066\n",
      "[18:13:55] Linear model: C = 0.0001 score = -0.788143205205594\n",
      "[18:13:55] Linear model: C = 0.0005 score = -0.790031745178784\n",
      "[18:13:55] Linear model: C = 0.001 score = -0.7941463899017929\n",
      "[18:13:55] ===== Start working with \u001b[1mfold 1\u001b[0m for \u001b[1mLvl_0_Pipe_0_Mod_0_LinearL2\u001b[0m =====\n",
      "[18:13:56] Linear model: C = 1e-05 score = -0.8383684181777105\n",
      "[18:13:56] Linear model: C = 5e-05 score = -0.7987508957118582\n",
      "[18:13:56] Linear model: C = 0.0001 score = -0.7907870986706408\n",
      "[18:13:57] Linear model: C = 0.0005 score = -0.789767275121731\n",
      "[18:13:57] Linear model: C = 0.001 score = -0.7935507036433834\n",
      "[18:13:57] Linear model: C = 0.005 score = -0.7989758344360698\n",
      "[18:13:57] ===== Start working with \u001b[1mfold 2\u001b[0m for \u001b[1mLvl_0_Pipe_0_Mod_0_LinearL2\u001b[0m =====\n",
      "[18:13:58] Linear model: C = 1e-05 score = -0.8428836402668662\n",
      "[18:13:58] Linear model: C = 5e-05 score = -0.8057141180506138\n",
      "[18:13:58] Linear model: C = 0.0001 score = -0.8018462358272865\n",
      "[18:13:59] Linear model: C = 0.0005 score = -0.8072763302470531\n",
      "[18:13:59] Linear model: C = 0.001 score = -0.8111153027643913\n",
      "[18:13:59] ===== Start working with \u001b[1mfold 3\u001b[0m for \u001b[1mLvl_0_Pipe_0_Mod_0_LinearL2\u001b[0m =====\n",
      "[18:13:59] Linear model: C = 1e-05 score = -0.8394064985935429\n",
      "[18:14:00] Linear model: C = 5e-05 score = -0.7981359101663347\n",
      "[18:14:00] Linear model: C = 0.0001 score = -0.7905281830806565\n",
      "[18:14:00] Linear model: C = 0.0005 score = -0.7944462478171074\n",
      "[18:14:01] Linear model: C = 0.001 score = -0.7977770221971024\n",
      "[18:14:01] ===== Start working with \u001b[1mfold 4\u001b[0m for \u001b[1mLvl_0_Pipe_0_Mod_0_LinearL2\u001b[0m =====\n",
      "[18:14:01] Linear model: C = 1e-05 score = -0.8748037252634301\n",
      "[18:14:01] Linear model: C = 5e-05 score = -0.8343278425398065\n",
      "[18:14:02] Linear model: C = 0.0001 score = -0.8245679576801659\n",
      "[18:14:02] Linear model: C = 0.0005 score = -0.8197770215830118\n",
      "[18:14:03] Linear model: C = 0.001 score = -0.8217533359360543\n",
      "[18:14:03] Linear model: C = 0.005 score = -0.8240806739748413\n",
      "[18:14:03] Fitting \u001b[1mLvl_0_Pipe_0_Mod_0_LinearL2\u001b[0m finished. score = \u001b[1m-0.7980123841636558\u001b[0m\n",
      "[18:14:03] \u001b[1mLvl_0_Pipe_0_Mod_0_LinearL2\u001b[0m fitting and predicting completed\n",
      "[18:14:03] Time left 17952.43 secs\n",
      "\n",
      "[18:14:44] Start fitting \u001b[1mLvl_0_Pipe_1_Mod_0_CatBoost\u001b[0m ...\n",
      "[18:14:44] Training params: {'task_type': 'GPU', 'thread_count': 2, 'random_seed': 42, 'num_trees': 2000, 'learning_rate': 0.05, 'l2_leaf_reg': 0.01, 'bootstrap_type': 'Bernoulli', 'grow_policy': 'SymmetricTree', 'max_depth': 5, 'min_data_in_leaf': 1, 'one_hot_max_size': 10, 'fold_permutation_block': 1, 'boosting_type': 'Plain', 'boost_from_average': True, 'od_type': 'Iter', 'od_wait': 300, 'max_bin': 32, 'feature_border_type': 'GreedyLogSum', 'nan_mode': 'Min', 'verbose': 100, 'allow_writing_files': False, 'devices': '0'}\n",
      "[18:14:44] ===== Start working with \u001b[1mfold 0\u001b[0m for \u001b[1mLvl_0_Pipe_1_Mod_0_CatBoost\u001b[0m =====\n",
      "[18:14:45] 0:\tlearn: 1.0163504\ttest: 1.0073680\tbest: 1.0073680 (0)\ttotal: 1.81ms\tremaining: 3.62s\n",
      "[18:14:45] 100:\tlearn: 0.8312195\ttest: 0.8538885\tbest: 0.8538885 (100)\ttotal: 111ms\tremaining: 2.08s\n"
     ]
    },
    {
     "name": "stderr",
     "output_type": "stream",
     "text": [
      "Default metric period is 5 because MAE is/are not implemented for GPU\n"
     ]
    },
    {
     "name": "stdout",
     "output_type": "stream",
     "text": [
      "[18:14:45] 200:\tlearn: 0.7815682\ttest: 0.8284462\tbest: 0.8284462 (200)\ttotal: 219ms\tremaining: 1.96s\n",
      "[18:14:45] 300:\tlearn: 0.7469610\ttest: 0.8166907\tbest: 0.8166860 (299)\ttotal: 329ms\tremaining: 1.85s\n",
      "[18:14:45] 400:\tlearn: 0.7195630\ttest: 0.8076664\tbest: 0.8076664 (400)\ttotal: 439ms\tremaining: 1.75s\n",
      "[18:14:45] 500:\tlearn: 0.6973203\ttest: 0.8025592\tbest: 0.8025592 (500)\ttotal: 547ms\tremaining: 1.64s\n",
      "[18:14:45] 600:\tlearn: 0.6772006\ttest: 0.7991981\tbest: 0.7991981 (600)\ttotal: 657ms\tremaining: 1.53s\n",
      "[18:14:45] 700:\tlearn: 0.6611098\ttest: 0.7958313\tbest: 0.7958313 (700)\ttotal: 766ms\tremaining: 1.42s\n",
      "[18:14:45] 800:\tlearn: 0.6454059\ttest: 0.7922988\tbest: 0.7922988 (800)\ttotal: 875ms\tremaining: 1.31s\n",
      "[18:14:46] 900:\tlearn: 0.6304536\ttest: 0.7898520\tbest: 0.7897216 (892)\ttotal: 985ms\tremaining: 1.2s\n",
      "[18:14:46] 1000:\tlearn: 0.6174602\ttest: 0.7886640\tbest: 0.7886640 (1000)\ttotal: 1.09s\tremaining: 1.09s\n",
      "[18:14:46] 1100:\tlearn: 0.6057972\ttest: 0.7864886\tbest: 0.7864886 (1100)\ttotal: 1.21s\tremaining: 984ms\n",
      "[18:14:46] 1200:\tlearn: 0.5952149\ttest: 0.7840463\tbest: 0.7840463 (1200)\ttotal: 1.31s\tremaining: 875ms\n",
      "[18:14:46] 1300:\tlearn: 0.5852506\ttest: 0.7825515\tbest: 0.7824742 (1294)\ttotal: 1.42s\tremaining: 765ms\n",
      "[18:14:46] 1400:\tlearn: 0.5752857\ttest: 0.7804194\tbest: 0.7804194 (1400)\ttotal: 1.53s\tremaining: 656ms\n",
      "[18:14:46] 1500:\tlearn: 0.5665659\ttest: 0.7786233\tbest: 0.7786233 (1500)\ttotal: 1.64s\tremaining: 546ms\n",
      "[18:14:46] 1600:\tlearn: 0.5580937\ttest: 0.7770346\tbest: 0.7769880 (1597)\ttotal: 1.75s\tremaining: 437ms\n",
      "[18:14:46] 1700:\tlearn: 0.5503642\ttest: 0.7759333\tbest: 0.7757952 (1685)\ttotal: 1.86s\tremaining: 327ms\n",
      "[18:14:47] 1800:\tlearn: 0.5433966\ttest: 0.7736183\tbest: 0.7735744 (1799)\ttotal: 1.97s\tremaining: 218ms\n",
      "[18:14:47] 1900:\tlearn: 0.5365176\ttest: 0.7723821\tbest: 0.7723821 (1900)\ttotal: 2.08s\tremaining: 108ms\n",
      "[18:14:47] 1999:\tlearn: 0.5301290\ttest: 0.7705756\tbest: 0.7705756 (1999)\ttotal: 2.19s\tremaining: 0us\n",
      "[18:14:47] bestTest = 0.7705755934\n",
      "[18:14:47] bestIteration = 1999\n",
      "[18:14:47] ===== Start working with \u001b[1mfold 1\u001b[0m for \u001b[1mLvl_0_Pipe_1_Mod_0_CatBoost\u001b[0m =====\n",
      "[18:14:47] 0:\tlearn: 1.0181705\ttest: 1.0020538\tbest: 1.0020538 (0)\ttotal: 1.45ms\tremaining: 2.89s\n",
      "[18:14:47] 100:\tlearn: 0.8345610\ttest: 0.8464626\tbest: 0.8464626 (100)\ttotal: 110ms\tremaining: 2.07s\n"
     ]
    },
    {
     "name": "stderr",
     "output_type": "stream",
     "text": [
      "Default metric period is 5 because MAE is/are not implemented for GPU\n"
     ]
    },
    {
     "name": "stdout",
     "output_type": "stream",
     "text": [
      "[18:14:48] 200:\tlearn: 0.7834389\ttest: 0.8191694\tbest: 0.8191694 (200)\ttotal: 219ms\tremaining: 1.96s\n",
      "[18:14:48] 300:\tlearn: 0.7484606\ttest: 0.8042356\tbest: 0.8042356 (300)\ttotal: 328ms\tremaining: 1.85s\n",
      "[18:14:48] 400:\tlearn: 0.7231277\ttest: 0.7957099\tbest: 0.7957099 (400)\ttotal: 438ms\tremaining: 1.75s\n",
      "[18:14:48] 500:\tlearn: 0.7014055\ttest: 0.7896979\tbest: 0.7896701 (499)\ttotal: 547ms\tremaining: 1.64s\n",
      "[18:14:48] 600:\tlearn: 0.6804889\ttest: 0.7846941\tbest: 0.7846941 (600)\ttotal: 656ms\tremaining: 1.53s\n",
      "[18:14:48] 700:\tlearn: 0.6628048\ttest: 0.7808905\tbest: 0.7808905 (700)\ttotal: 765ms\tremaining: 1.42s\n",
      "[18:14:48] 800:\tlearn: 0.6481734\ttest: 0.7770830\tbest: 0.7770830 (800)\ttotal: 875ms\tremaining: 1.31s\n",
      "[18:14:48] 900:\tlearn: 0.6349031\ttest: 0.7736576\tbest: 0.7736482 (898)\ttotal: 984ms\tremaining: 1.2s\n",
      "[18:14:48] 1000:\tlearn: 0.6217293\ttest: 0.7703903\tbest: 0.7703703 (995)\ttotal: 1.09s\tremaining: 1.09s\n",
      "[18:14:49] 1100:\tlearn: 0.6088568\ttest: 0.7671202\tbest: 0.7671202 (1100)\ttotal: 1.2s\tremaining: 983ms\n",
      "[18:14:49] 1200:\tlearn: 0.5979178\ttest: 0.7654798\tbest: 0.7654798 (1200)\ttotal: 1.31s\tremaining: 873ms\n",
      "[18:14:49] 1300:\tlearn: 0.5881568\ttest: 0.7631922\tbest: 0.7631768 (1298)\ttotal: 1.42s\tremaining: 764ms\n",
      "[18:14:49] 1400:\tlearn: 0.5783366\ttest: 0.7604199\tbest: 0.7604099 (1398)\ttotal: 1.53s\tremaining: 655ms\n",
      "[18:14:49] 1500:\tlearn: 0.5703945\ttest: 0.7581822\tbest: 0.7581738 (1498)\ttotal: 1.64s\tremaining: 545ms\n",
      "[18:14:49] 1600:\tlearn: 0.5628063\ttest: 0.7565693\tbest: 0.7565693 (1600)\ttotal: 1.75s\tremaining: 436ms\n",
      "[18:14:49] 1700:\tlearn: 0.5556538\ttest: 0.7544328\tbest: 0.7544328 (1700)\ttotal: 1.86s\tremaining: 327ms\n",
      "[18:14:49] 1800:\tlearn: 0.5483782\ttest: 0.7527204\tbest: 0.7527091 (1799)\ttotal: 1.97s\tremaining: 218ms\n",
      "[18:14:49] 1900:\tlearn: 0.5417682\ttest: 0.7509220\tbest: 0.7509220 (1900)\ttotal: 2.08s\tremaining: 108ms\n",
      "[18:14:50] 1999:\tlearn: 0.5350927\ttest: 0.7499866\tbest: 0.7498851 (1993)\ttotal: 2.19s\tremaining: 0us\n",
      "[18:14:50] bestTest = 0.7498851375\n",
      "[18:14:50] bestIteration = 1993\n",
      "[18:14:50] Shrink model to first 1994 iterations.\n",
      "[18:14:50] ===== Start working with \u001b[1mfold 2\u001b[0m for \u001b[1mLvl_0_Pipe_1_Mod_0_CatBoost\u001b[0m =====\n",
      "[18:14:50] 0:\tlearn: 1.0187007\ttest: 0.9981062\tbest: 0.9981062 (0)\ttotal: 1.42ms\tremaining: 2.84s\n",
      "[18:14:50] 100:\tlearn: 0.8289109\ttest: 0.8556440\tbest: 0.8556440 (100)\ttotal: 120ms\tremaining: 2.25s\n"
     ]
    },
    {
     "name": "stderr",
     "output_type": "stream",
     "text": [
      "Default metric period is 5 because MAE is/are not implemented for GPU\n"
     ]
    },
    {
     "name": "stdout",
     "output_type": "stream",
     "text": [
      "[18:14:50] 200:\tlearn: 0.7784074\ttest: 0.8327664\tbest: 0.8327664 (200)\ttotal: 254ms\tremaining: 2.27s\n",
      "[18:14:50] 300:\tlearn: 0.7431740\ttest: 0.8190141\tbest: 0.8190141 (300)\ttotal: 387ms\tremaining: 2.18s\n",
      "[18:14:51] 400:\tlearn: 0.7176778\ttest: 0.8142434\tbest: 0.8142434 (400)\ttotal: 509ms\tremaining: 2.03s\n",
      "[18:14:51] 500:\tlearn: 0.6944672\ttest: 0.8078648\tbest: 0.8078639 (498)\ttotal: 618ms\tremaining: 1.85s\n",
      "[18:14:51] 600:\tlearn: 0.6749945\ttest: 0.8038054\tbest: 0.8037594 (598)\ttotal: 727ms\tremaining: 1.69s\n",
      "[18:14:51] 700:\tlearn: 0.6573799\ttest: 0.7990373\tbest: 0.7990373 (700)\ttotal: 837ms\tremaining: 1.55s\n",
      "[18:14:51] 800:\tlearn: 0.6421226\ttest: 0.7955658\tbest: 0.7955658 (800)\ttotal: 946ms\tremaining: 1.42s\n",
      "[18:14:51] 900:\tlearn: 0.6292915\ttest: 0.7917909\tbest: 0.7917909 (900)\ttotal: 1.05s\tremaining: 1.29s\n",
      "[18:14:51] 1000:\tlearn: 0.6162041\ttest: 0.7886583\tbest: 0.7886583 (1000)\ttotal: 1.16s\tremaining: 1.16s\n",
      "[18:14:51] 1100:\tlearn: 0.6047146\ttest: 0.7852259\tbest: 0.7852259 (1100)\ttotal: 1.27s\tremaining: 1.04s\n",
      "[18:14:51] 1200:\tlearn: 0.5935491\ttest: 0.7819035\tbest: 0.7818965 (1199)\ttotal: 1.38s\tremaining: 920ms\n",
      "[18:14:52] 1300:\tlearn: 0.5842176\ttest: 0.7796179\tbest: 0.7796179 (1300)\ttotal: 1.49s\tremaining: 802ms\n",
      "[18:14:52] 1400:\tlearn: 0.5746580\ttest: 0.7766368\tbest: 0.7766368 (1400)\ttotal: 1.6s\tremaining: 685ms\n",
      "[18:14:52] 1500:\tlearn: 0.5662318\ttest: 0.7755943\tbest: 0.7753498 (1492)\ttotal: 1.71s\tremaining: 569ms\n",
      "[18:14:52] 1600:\tlearn: 0.5585425\ttest: 0.7740166\tbest: 0.7739906 (1598)\ttotal: 1.82s\tremaining: 454ms\n",
      "[18:14:52] 1700:\tlearn: 0.5508073\ttest: 0.7719323\tbest: 0.7719323 (1700)\ttotal: 1.93s\tremaining: 340ms\n",
      "[18:14:52] 1800:\tlearn: 0.5436003\ttest: 0.7705610\tbest: 0.7705610 (1800)\ttotal: 2.04s\tremaining: 226ms\n",
      "[18:14:52] 1900:\tlearn: 0.5363963\ttest: 0.7680546\tbest: 0.7680546 (1900)\ttotal: 2.15s\tremaining: 112ms\n",
      "[18:14:52] 1999:\tlearn: 0.5299546\ttest: 0.7668513\tbest: 0.7666789 (1975)\ttotal: 2.26s\tremaining: 0us\n",
      "[18:14:52] bestTest = 0.7666788614\n",
      "[18:14:52] bestIteration = 1975\n",
      "[18:14:52] Shrink model to first 1976 iterations.\n",
      "[18:14:52] ===== Start working with \u001b[1mfold 3\u001b[0m for \u001b[1mLvl_0_Pipe_1_Mod_0_CatBoost\u001b[0m =====\n",
      "[18:14:53] 0:\tlearn: 1.0162183\ttest: 1.0108832\tbest: 1.0108832 (0)\ttotal: 1.54ms\tremaining: 3.09s\n",
      "[18:14:53] 100:\tlearn: 0.8348524\ttest: 0.8489767\tbest: 0.8489767 (100)\ttotal: 110ms\tremaining: 2.07s\n"
     ]
    },
    {
     "name": "stderr",
     "output_type": "stream",
     "text": [
      "Default metric period is 5 because MAE is/are not implemented for GPU\n"
     ]
    },
    {
     "name": "stdout",
     "output_type": "stream",
     "text": [
      "[18:14:53] 200:\tlearn: 0.7870143\ttest: 0.8211407\tbest: 0.8211407 (200)\ttotal: 220ms\tremaining: 1.97s\n",
      "[18:14:53] 300:\tlearn: 0.7516646\ttest: 0.8068327\tbest: 0.8068327 (300)\ttotal: 329ms\tremaining: 1.86s\n",
      "[18:14:53] 400:\tlearn: 0.7237951\ttest: 0.7948710\tbest: 0.7948710 (400)\ttotal: 439ms\tremaining: 1.75s\n",
      "[18:14:53] 500:\tlearn: 0.7008464\ttest: 0.7877289\tbest: 0.7876674 (498)\ttotal: 548ms\tremaining: 1.64s\n",
      "[18:14:54] 600:\tlearn: 0.6808580\ttest: 0.7813520\tbest: 0.7813520 (600)\ttotal: 658ms\tremaining: 1.53s\n",
      "[18:14:54] 700:\tlearn: 0.6636187\ttest: 0.7776801\tbest: 0.7776801 (700)\ttotal: 768ms\tremaining: 1.42s\n",
      "[18:14:54] 800:\tlearn: 0.6470118\ttest: 0.7726638\tbest: 0.7726589 (799)\ttotal: 878ms\tremaining: 1.31s\n",
      "[18:14:54] 900:\tlearn: 0.6336409\ttest: 0.7695123\tbest: 0.7695123 (900)\ttotal: 988ms\tremaining: 1.2s\n",
      "[18:14:54] 1000:\tlearn: 0.6210873\ttest: 0.7664114\tbest: 0.7664114 (1000)\ttotal: 1.1s\tremaining: 1.09s\n",
      "[18:14:54] 1100:\tlearn: 0.6099908\ttest: 0.7631732\tbest: 0.7631732 (1100)\ttotal: 1.21s\tremaining: 986ms\n",
      "[18:14:54] 1200:\tlearn: 0.5987367\ttest: 0.7593382\tbest: 0.7593382 (1200)\ttotal: 1.32s\tremaining: 876ms\n",
      "[18:14:54] 1300:\tlearn: 0.5889005\ttest: 0.7573078\tbest: 0.7572766 (1288)\ttotal: 1.43s\tremaining: 767ms\n",
      "[18:14:54] 1400:\tlearn: 0.5795538\ttest: 0.7551700\tbest: 0.7551249 (1398)\ttotal: 1.54s\tremaining: 657ms\n",
      "[18:14:55] 1500:\tlearn: 0.5705023\ttest: 0.7526705\tbest: 0.7526380 (1496)\ttotal: 1.65s\tremaining: 547ms\n",
      "[18:14:55] 1600:\tlearn: 0.5630677\ttest: 0.7512085\tbest: 0.7510760 (1593)\ttotal: 1.76s\tremaining: 438ms\n",
      "[18:14:55] 1700:\tlearn: 0.5556012\ttest: 0.7493083\tbest: 0.7493012 (1699)\ttotal: 1.87s\tremaining: 328ms\n",
      "[18:14:55] 1800:\tlearn: 0.5480844\ttest: 0.7478481\tbest: 0.7478078 (1795)\ttotal: 1.98s\tremaining: 218ms\n",
      "[18:14:55] 1900:\tlearn: 0.5409288\ttest: 0.7461120\tbest: 0.7460456 (1899)\ttotal: 2.09s\tremaining: 109ms\n",
      "[18:14:55] 1999:\tlearn: 0.5351601\ttest: 0.7449648\tbest: 0.7449648 (1999)\ttotal: 2.19s\tremaining: 0us\n",
      "[18:14:55] bestTest = 0.7449647613\n",
      "[18:14:55] bestIteration = 1999\n",
      "[18:14:55] ===== Start working with \u001b[1mfold 4\u001b[0m for \u001b[1mLvl_0_Pipe_1_Mod_0_CatBoost\u001b[0m =====\n",
      "[18:14:56] 0:\tlearn: 1.0055895\ttest: 1.0578136\tbest: 1.0578136 (0)\ttotal: 1.42ms\tremaining: 2.83s\n",
      "[18:14:56] 100:\tlearn: 0.8305304\ttest: 0.8794629\tbest: 0.8794629 (100)\ttotal: 111ms\tremaining: 2.08s\n"
     ]
    },
    {
     "name": "stderr",
     "output_type": "stream",
     "text": [
      "Default metric period is 5 because MAE is/are not implemented for GPU\n"
     ]
    },
    {
     "name": "stdout",
     "output_type": "stream",
     "text": [
      "[18:14:56] 200:\tlearn: 0.7824777\ttest: 0.8482778\tbest: 0.8481802 (199)\ttotal: 220ms\tremaining: 1.97s\n",
      "[18:14:56] 300:\tlearn: 0.7491779\ttest: 0.8320318\tbest: 0.8320318 (300)\ttotal: 329ms\tremaining: 1.86s\n",
      "[18:14:56] 400:\tlearn: 0.7219455\ttest: 0.8216520\tbest: 0.8216520 (400)\ttotal: 439ms\tremaining: 1.75s\n",
      "[18:14:56] 500:\tlearn: 0.7008259\ttest: 0.8144356\tbest: 0.8142872 (492)\ttotal: 548ms\tremaining: 1.64s\n",
      "[18:14:56] 600:\tlearn: 0.6801549\ttest: 0.8091933\tbest: 0.8091597 (595)\ttotal: 658ms\tremaining: 1.53s\n",
      "[18:14:56] 700:\tlearn: 0.6637575\ttest: 0.8047022\tbest: 0.8046799 (699)\ttotal: 768ms\tremaining: 1.42s\n",
      "[18:14:57] 800:\tlearn: 0.6478722\ttest: 0.7999155\tbest: 0.7999155 (800)\ttotal: 878ms\tremaining: 1.31s\n",
      "[18:14:57] 900:\tlearn: 0.6346784\ttest: 0.7964858\tbest: 0.7964466 (898)\ttotal: 987ms\tremaining: 1.2s\n",
      "[18:14:57] 1000:\tlearn: 0.6217912\ttest: 0.7934667\tbest: 0.7934667 (1000)\ttotal: 1.1s\tremaining: 1.09s\n",
      "[18:14:57] 1100:\tlearn: 0.6101262\ttest: 0.7906546\tbest: 0.7906546 (1100)\ttotal: 1.21s\tremaining: 985ms\n",
      "[18:14:57] 1200:\tlearn: 0.5985587\ttest: 0.7884813\tbest: 0.7884018 (1199)\ttotal: 1.31s\tremaining: 875ms\n",
      "[18:14:57] 1300:\tlearn: 0.5878928\ttest: 0.7859098\tbest: 0.7859098 (1300)\ttotal: 1.42s\tremaining: 766ms\n",
      "[18:14:57] 1400:\tlearn: 0.5784679\ttest: 0.7836288\tbest: 0.7835663 (1395)\ttotal: 1.53s\tremaining: 656ms\n",
      "[18:14:57] 1500:\tlearn: 0.5695942\ttest: 0.7805505\tbest: 0.7805505 (1500)\ttotal: 1.64s\tremaining: 547ms\n",
      "[18:14:57] 1600:\tlearn: 0.5612458\ttest: 0.7788293\tbest: 0.7786472 (1593)\ttotal: 1.75s\tremaining: 437ms\n",
      "[18:14:58] 1700:\tlearn: 0.5532861\ttest: 0.7767472\tbest: 0.7767472 (1700)\ttotal: 1.86s\tremaining: 328ms\n",
      "[18:14:58] 1800:\tlearn: 0.5461130\ttest: 0.7749475\tbest: 0.7749475 (1800)\ttotal: 1.98s\tremaining: 218ms\n",
      "[18:14:58] 1900:\tlearn: 0.5384366\ttest: 0.7721478\tbest: 0.7721478 (1900)\ttotal: 2.08s\tremaining: 109ms\n",
      "[18:14:58] 1999:\tlearn: 0.5326568\ttest: 0.7711447\tbest: 0.7711169 (1998)\ttotal: 2.19s\tremaining: 0us\n",
      "[18:14:58] bestTest = 0.7711168704\n",
      "[18:14:58] bestIteration = 1998\n",
      "[18:14:58] Shrink model to first 1999 iterations.\n",
      "[18:14:58] Fitting \u001b[1mLvl_0_Pipe_1_Mod_0_CatBoost\u001b[0m finished. score = \u001b[1m-0.7606444970400428\u001b[0m\n",
      "[18:14:58] \u001b[1mLvl_0_Pipe_1_Mod_0_CatBoost\u001b[0m fitting and predicting completed\n",
      "[18:14:58] Time left 17897.42 secs\n",
      "\n",
      "[18:14:58] \u001b[1mLayer 1 training completed.\u001b[0m\n",
      "\n",
      "[18:14:58] Blending: optimization starts with equal weights and score \u001b[1m-0.7410979933787755\u001b[0m\n",
      "[18:14:58] Blending: iteration \u001b[1m0\u001b[0m: score = \u001b[1m-0.738451368613441\u001b[0m, weights = \u001b[1m[0.36179066 0.63820934]\u001b[0m\n",
      "[18:14:58] Blending: iteration \u001b[1m1\u001b[0m: score = \u001b[1m-0.738451368613441\u001b[0m, weights = \u001b[1m[0.36179066 0.63820934]\u001b[0m\n",
      "[18:14:58] Blending: no score update. Terminated\n",
      "\n",
      "[18:14:58] \u001b[1mAutoml preset training completed in 102.59 seconds\u001b[0m\n",
      "\n",
      "[18:14:58] Model description:\n",
      "Final prediction for new objects (level 0) = \n",
      "\t 0.36179 * (5 averaged models Lvl_0_Pipe_0_Mod_0_LinearL2) +\n",
      "\t 0.63821 * (5 averaged models Lvl_0_Pipe_1_Mod_0_CatBoost) \n",
      "\n",
      "CPU times: user 45.7 s, sys: 7.33 s, total: 53 s\n",
      "Wall time: 1min 42s\n"
     ]
    }
   ],
   "source": [
    "%%time \n",
    "# будет использовано 5 фолдов кросс валидации\n",
    "# для извлечения признаков с картинок будет использована нейросеть EfficientNet b0\n",
    "# после извлечения числовых признаков нейросетью на них будут учится стандартные модели\n",
    "#  линейная регрессия и градиентный бустинг\n",
    "oof_pred = automl.fit_predict(train, roles = roles, verbose = 4)"
   ]
  },
  {
   "cell_type": "code",
   "execution_count": 21,
   "metadata": {},
   "outputs": [
    {
     "data": {
      "text/plain": [
       "array([29.51603 , 28.0579  , 28.717566, ..., 27.91448 , 28.251934,\n",
       "       28.537424], dtype=float32)"
      ]
     },
     "execution_count": 21,
     "metadata": {},
     "output_type": "execute_result"
    }
   ],
   "source": [
    "# смотрим предсказания модели-регрессора\n",
    "preds = oof_pred.data[:,0]\n",
    "preds\n"
   ]
  },
  {
   "cell_type": "code",
   "execution_count": 22,
   "metadata": {},
   "outputs": [
    {
     "data": {
      "text/plain": [
       "array([29.54316383, 27.89458224, 29.3503531 , ..., 27.8561391 ,\n",
       "       29.72078868, 28.28530245])"
      ]
     },
     "execution_count": 22,
     "metadata": {},
     "output_type": "execute_result"
    }
   ],
   "source": [
    "y_true = train['PSNR'].values\n",
    "y_true"
   ]
  },
  {
   "cell_type": "code",
   "execution_count": 24,
   "metadata": {},
   "outputs": [],
   "source": [
    "# Введем метрики оценки качества модели\n",
    "def mse(y_true, y_pred):\n",
    "    return ((y_true - y_pred)**2).mean()\n",
    "def mae(y_true, y_pred):\n",
    "    return (np.abs(y_true - y_pred)).mean()"
   ]
  },
  {
   "cell_type": "code",
   "execution_count": 26,
   "metadata": {},
   "outputs": [
    {
     "name": "stdout",
     "output_type": "stream",
     "text": [
      "MSE = 2.0822282802423095\n",
      "MAE = 0.738451368613441\n"
     ]
    }
   ],
   "source": [
    "# Оценим нашу модель на валидационной выборке:\n",
    "print(f\"MSE = {mse(y_true, preds)}\")\n",
    "print(f\"MAE = {mae(y_true, preds)}\")"
   ]
  },
  {
   "cell_type": "markdown",
   "metadata": {},
   "source": [
    "# Предскажем на тесте"
   ]
  },
  {
   "cell_type": "code",
   "execution_count": 29,
   "metadata": {},
   "outputs": [],
   "source": [
    "test = pd.read_csv('data/sample_submission.csv')"
   ]
  },
  {
   "cell_type": "code",
   "execution_count": 30,
   "metadata": {},
   "outputs": [
    {
     "data": {
      "text/html": [
       "<div>\n",
       "<style scoped>\n",
       "    .dataframe tbody tr th:only-of-type {\n",
       "        vertical-align: middle;\n",
       "    }\n",
       "\n",
       "    .dataframe tbody tr th {\n",
       "        vertical-align: top;\n",
       "    }\n",
       "\n",
       "    .dataframe thead th {\n",
       "        text-align: right;\n",
       "    }\n",
       "</style>\n",
       "<table border=\"1\" class=\"dataframe\">\n",
       "  <thead>\n",
       "    <tr style=\"text-align: right;\">\n",
       "      <th></th>\n",
       "      <th>img_name</th>\n",
       "      <th>PSNR</th>\n",
       "    </tr>\n",
       "  </thead>\n",
       "  <tbody>\n",
       "    <tr>\n",
       "      <th>0</th>\n",
       "      <td>100090_1.png</td>\n",
       "      <td>0</td>\n",
       "    </tr>\n",
       "    <tr>\n",
       "      <th>1</th>\n",
       "      <td>100090_2.png</td>\n",
       "      <td>0</td>\n",
       "    </tr>\n",
       "    <tr>\n",
       "      <th>2</th>\n",
       "      <td>100090_3.png</td>\n",
       "      <td>0</td>\n",
       "    </tr>\n",
       "    <tr>\n",
       "      <th>3</th>\n",
       "      <td>100090_4.png</td>\n",
       "      <td>0</td>\n",
       "    </tr>\n",
       "    <tr>\n",
       "      <th>4</th>\n",
       "      <td>100090_5.png</td>\n",
       "      <td>0</td>\n",
       "    </tr>\n",
       "  </tbody>\n",
       "</table>\n",
       "</div>"
      ],
      "text/plain": [
       "       img_name  PSNR\n",
       "0  100090_1.png     0\n",
       "1  100090_2.png     0\n",
       "2  100090_3.png     0\n",
       "3  100090_4.png     0\n",
       "4  100090_5.png     0"
      ]
     },
     "execution_count": 30,
     "metadata": {},
     "output_type": "execute_result"
    }
   ],
   "source": [
    "test.head()"
   ]
  },
  {
   "cell_type": "code",
   "execution_count": 31,
   "metadata": {},
   "outputs": [],
   "source": [
    "# добавим полный относительный путь до картинок из test\n",
    "# в качестве новой колонки\n",
    "path_to_dataset_test = 'data/SBC22_IQA_dataset/test'\n",
    "test['path'] =  path_to_dataset_test + '/' + test['img_name']"
   ]
  },
  {
   "cell_type": "code",
   "execution_count": 34,
   "metadata": {},
   "outputs": [],
   "source": [
    "# колонка с имена картинок больше не нужна\n",
    "test.drop(columns=['img_name'], inplace=True)"
   ]
  },
  {
   "cell_type": "code",
   "execution_count": 35,
   "metadata": {},
   "outputs": [
    {
     "data": {
      "text/html": [
       "<div>\n",
       "<style scoped>\n",
       "    .dataframe tbody tr th:only-of-type {\n",
       "        vertical-align: middle;\n",
       "    }\n",
       "\n",
       "    .dataframe tbody tr th {\n",
       "        vertical-align: top;\n",
       "    }\n",
       "\n",
       "    .dataframe thead th {\n",
       "        text-align: right;\n",
       "    }\n",
       "</style>\n",
       "<table border=\"1\" class=\"dataframe\">\n",
       "  <thead>\n",
       "    <tr style=\"text-align: right;\">\n",
       "      <th></th>\n",
       "      <th>PSNR</th>\n",
       "      <th>path</th>\n",
       "    </tr>\n",
       "  </thead>\n",
       "  <tbody>\n",
       "    <tr>\n",
       "      <th>0</th>\n",
       "      <td>0</td>\n",
       "      <td>data/SBC22_IQA_dataset/test/100090_1.png</td>\n",
       "    </tr>\n",
       "    <tr>\n",
       "      <th>1</th>\n",
       "      <td>0</td>\n",
       "      <td>data/SBC22_IQA_dataset/test/100090_2.png</td>\n",
       "    </tr>\n",
       "    <tr>\n",
       "      <th>2</th>\n",
       "      <td>0</td>\n",
       "      <td>data/SBC22_IQA_dataset/test/100090_3.png</td>\n",
       "    </tr>\n",
       "    <tr>\n",
       "      <th>3</th>\n",
       "      <td>0</td>\n",
       "      <td>data/SBC22_IQA_dataset/test/100090_4.png</td>\n",
       "    </tr>\n",
       "    <tr>\n",
       "      <th>4</th>\n",
       "      <td>0</td>\n",
       "      <td>data/SBC22_IQA_dataset/test/100090_5.png</td>\n",
       "    </tr>\n",
       "  </tbody>\n",
       "</table>\n",
       "</div>"
      ],
      "text/plain": [
       "   PSNR                                      path\n",
       "0     0  data/SBC22_IQA_dataset/test/100090_1.png\n",
       "1     0  data/SBC22_IQA_dataset/test/100090_2.png\n",
       "2     0  data/SBC22_IQA_dataset/test/100090_3.png\n",
       "3     0  data/SBC22_IQA_dataset/test/100090_4.png\n",
       "4     0  data/SBC22_IQA_dataset/test/100090_5.png"
      ]
     },
     "execution_count": 35,
     "metadata": {},
     "output_type": "execute_result"
    }
   ],
   "source": [
    "test.head()"
   ]
  },
  {
   "cell_type": "code",
   "execution_count": 36,
   "metadata": {},
   "outputs": [
    {
     "name": "stderr",
     "output_type": "stream",
     "text": [
      "100%|██████████| 26/26 [00:09<00:00,  2.78it/s]"
     ]
    },
    {
     "name": "stdout",
     "output_type": "stream",
     "text": [
      "[18:32:32] Feature path transformed\n"
     ]
    },
    {
     "name": "stderr",
     "output_type": "stream",
     "text": [
      "\n"
     ]
    }
   ],
   "source": [
    "# предсказание ансамблем моделей на тестовых данных\n",
    "test_pred = automl.predict(test)"
   ]
  },
  {
   "cell_type": "code",
   "execution_count": 39,
   "metadata": {},
   "outputs": [],
   "source": [
    "test_pred = test_pred.data[:,0]"
   ]
  },
  {
   "cell_type": "code",
   "execution_count": 40,
   "metadata": {},
   "outputs": [
    {
     "data": {
      "text/plain": [
       "array([28.877903, 27.85306 , 27.89661 , ..., 27.892792, 28.644264,\n",
       "       29.722187], dtype=float32)"
      ]
     },
     "execution_count": 40,
     "metadata": {},
     "output_type": "execute_result"
    }
   ],
   "source": [
    "test_pred"
   ]
  },
  {
   "cell_type": "markdown",
   "metadata": {},
   "source": [
    "# публикуем сабмит"
   ]
  },
  {
   "cell_type": "code",
   "execution_count": 41,
   "metadata": {},
   "outputs": [],
   "source": [
    "submission = pd.read_csv('data/sample_submission.csv')"
   ]
  },
  {
   "cell_type": "code",
   "execution_count": 42,
   "metadata": {},
   "outputs": [
    {
     "data": {
      "text/html": [
       "<div>\n",
       "<style scoped>\n",
       "    .dataframe tbody tr th:only-of-type {\n",
       "        vertical-align: middle;\n",
       "    }\n",
       "\n",
       "    .dataframe tbody tr th {\n",
       "        vertical-align: top;\n",
       "    }\n",
       "\n",
       "    .dataframe thead th {\n",
       "        text-align: right;\n",
       "    }\n",
       "</style>\n",
       "<table border=\"1\" class=\"dataframe\">\n",
       "  <thead>\n",
       "    <tr style=\"text-align: right;\">\n",
       "      <th></th>\n",
       "      <th>img_name</th>\n",
       "      <th>PSNR</th>\n",
       "    </tr>\n",
       "  </thead>\n",
       "  <tbody>\n",
       "    <tr>\n",
       "      <th>0</th>\n",
       "      <td>100090_1.png</td>\n",
       "      <td>0</td>\n",
       "    </tr>\n",
       "    <tr>\n",
       "      <th>1</th>\n",
       "      <td>100090_2.png</td>\n",
       "      <td>0</td>\n",
       "    </tr>\n",
       "    <tr>\n",
       "      <th>2</th>\n",
       "      <td>100090_3.png</td>\n",
       "      <td>0</td>\n",
       "    </tr>\n",
       "    <tr>\n",
       "      <th>3</th>\n",
       "      <td>100090_4.png</td>\n",
       "      <td>0</td>\n",
       "    </tr>\n",
       "    <tr>\n",
       "      <th>4</th>\n",
       "      <td>100090_5.png</td>\n",
       "      <td>0</td>\n",
       "    </tr>\n",
       "    <tr>\n",
       "      <th>...</th>\n",
       "      <td>...</td>\n",
       "      <td>...</td>\n",
       "    </tr>\n",
       "    <tr>\n",
       "      <th>3305</th>\n",
       "      <td>99584_1.png</td>\n",
       "      <td>0</td>\n",
       "    </tr>\n",
       "    <tr>\n",
       "      <th>3306</th>\n",
       "      <td>99584_2.png</td>\n",
       "      <td>0</td>\n",
       "    </tr>\n",
       "    <tr>\n",
       "      <th>3307</th>\n",
       "      <td>99584_3.png</td>\n",
       "      <td>0</td>\n",
       "    </tr>\n",
       "    <tr>\n",
       "      <th>3308</th>\n",
       "      <td>99584_4.png</td>\n",
       "      <td>0</td>\n",
       "    </tr>\n",
       "    <tr>\n",
       "      <th>3309</th>\n",
       "      <td>99584_5.png</td>\n",
       "      <td>0</td>\n",
       "    </tr>\n",
       "  </tbody>\n",
       "</table>\n",
       "<p>3310 rows × 2 columns</p>\n",
       "</div>"
      ],
      "text/plain": [
       "          img_name  PSNR\n",
       "0     100090_1.png     0\n",
       "1     100090_2.png     0\n",
       "2     100090_3.png     0\n",
       "3     100090_4.png     0\n",
       "4     100090_5.png     0\n",
       "...            ...   ...\n",
       "3305   99584_1.png     0\n",
       "3306   99584_2.png     0\n",
       "3307   99584_3.png     0\n",
       "3308   99584_4.png     0\n",
       "3309   99584_5.png     0\n",
       "\n",
       "[3310 rows x 2 columns]"
      ]
     },
     "execution_count": 42,
     "metadata": {},
     "output_type": "execute_result"
    }
   ],
   "source": [
    "submission"
   ]
  },
  {
   "cell_type": "code",
   "execution_count": 43,
   "metadata": {},
   "outputs": [],
   "source": [
    "submission['PSNR'] = test_pred\n"
   ]
  },
  {
   "cell_type": "code",
   "execution_count": 44,
   "metadata": {},
   "outputs": [
    {
     "data": {
      "text/html": [
       "<div>\n",
       "<style scoped>\n",
       "    .dataframe tbody tr th:only-of-type {\n",
       "        vertical-align: middle;\n",
       "    }\n",
       "\n",
       "    .dataframe tbody tr th {\n",
       "        vertical-align: top;\n",
       "    }\n",
       "\n",
       "    .dataframe thead th {\n",
       "        text-align: right;\n",
       "    }\n",
       "</style>\n",
       "<table border=\"1\" class=\"dataframe\">\n",
       "  <thead>\n",
       "    <tr style=\"text-align: right;\">\n",
       "      <th></th>\n",
       "      <th>img_name</th>\n",
       "      <th>PSNR</th>\n",
       "    </tr>\n",
       "  </thead>\n",
       "  <tbody>\n",
       "    <tr>\n",
       "      <th>0</th>\n",
       "      <td>100090_1.png</td>\n",
       "      <td>28.877903</td>\n",
       "    </tr>\n",
       "    <tr>\n",
       "      <th>1</th>\n",
       "      <td>100090_2.png</td>\n",
       "      <td>27.853060</td>\n",
       "    </tr>\n",
       "    <tr>\n",
       "      <th>2</th>\n",
       "      <td>100090_3.png</td>\n",
       "      <td>27.896610</td>\n",
       "    </tr>\n",
       "    <tr>\n",
       "      <th>3</th>\n",
       "      <td>100090_4.png</td>\n",
       "      <td>27.994972</td>\n",
       "    </tr>\n",
       "    <tr>\n",
       "      <th>4</th>\n",
       "      <td>100090_5.png</td>\n",
       "      <td>28.971851</td>\n",
       "    </tr>\n",
       "    <tr>\n",
       "      <th>...</th>\n",
       "      <td>...</td>\n",
       "      <td>...</td>\n",
       "    </tr>\n",
       "    <tr>\n",
       "      <th>3305</th>\n",
       "      <td>99584_1.png</td>\n",
       "      <td>29.786552</td>\n",
       "    </tr>\n",
       "    <tr>\n",
       "      <th>3306</th>\n",
       "      <td>99584_2.png</td>\n",
       "      <td>28.124371</td>\n",
       "    </tr>\n",
       "    <tr>\n",
       "      <th>3307</th>\n",
       "      <td>99584_3.png</td>\n",
       "      <td>27.892792</td>\n",
       "    </tr>\n",
       "    <tr>\n",
       "      <th>3308</th>\n",
       "      <td>99584_4.png</td>\n",
       "      <td>28.644264</td>\n",
       "    </tr>\n",
       "    <tr>\n",
       "      <th>3309</th>\n",
       "      <td>99584_5.png</td>\n",
       "      <td>29.722187</td>\n",
       "    </tr>\n",
       "  </tbody>\n",
       "</table>\n",
       "<p>3310 rows × 2 columns</p>\n",
       "</div>"
      ],
      "text/plain": [
       "          img_name       PSNR\n",
       "0     100090_1.png  28.877903\n",
       "1     100090_2.png  27.853060\n",
       "2     100090_3.png  27.896610\n",
       "3     100090_4.png  27.994972\n",
       "4     100090_5.png  28.971851\n",
       "...            ...        ...\n",
       "3305   99584_1.png  29.786552\n",
       "3306   99584_2.png  28.124371\n",
       "3307   99584_3.png  27.892792\n",
       "3308   99584_4.png  28.644264\n",
       "3309   99584_5.png  29.722187\n",
       "\n",
       "[3310 rows x 2 columns]"
      ]
     },
     "execution_count": 44,
     "metadata": {},
     "output_type": "execute_result"
    }
   ],
   "source": [
    "submission"
   ]
  },
  {
   "cell_type": "code",
   "execution_count": 45,
   "metadata": {},
   "outputs": [],
   "source": [
    "submission_path = 'submission/lightautoml_model_final_submission.csv'"
   ]
  },
  {
   "cell_type": "code",
   "execution_count": 47,
   "metadata": {},
   "outputs": [],
   "source": [
    "submission.to_csv(submission_path, index=False)"
   ]
  }
 ],
 "metadata": {
  "kernelspec": {
   "display_name": "Python 3.9.12 ('sber_lama')",
   "language": "python",
   "name": "python3"
  },
  "language_info": {
   "codemirror_mode": {
    "name": "ipython",
    "version": 3
   },
   "file_extension": ".py",
   "mimetype": "text/x-python",
   "name": "python",
   "nbconvert_exporter": "python",
   "pygments_lexer": "ipython3",
   "version": "3.9.12"
  },
  "vscode": {
   "interpreter": {
    "hash": "901158d8cd2db934fb9192b2a062c20c24f00bed87efea9fcd6e00355046a3d1"
   }
  }
 },
 "nbformat": 4,
 "nbformat_minor": 4
}
